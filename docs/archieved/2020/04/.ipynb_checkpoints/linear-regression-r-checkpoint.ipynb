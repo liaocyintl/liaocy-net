{
 "cells": [
  {
   "cell_type": "markdown",
   "metadata": {},
   "source": [
    "参考资料：\n",
    "1. [R语言多元(多重)回归](https://blog.csdn.net/qq_15111861/article/details/86706857)\n",
    "1. [总结下R语言进行简单多元回归的基本步骤](http://blog.sina.com.cn/s/blog_6ee39c3901017fpd.html)\n",
    "1. [详细解读回归分析结果](https://www.jianshu.com/p/cbed5db36054)\n",
    "1. [R语言解读一元线性回归模型](https://www.cnblogs.com/nxld/p/6138781.html)"
   ]
  },
  {
   "cell_type": "markdown",
   "metadata": {},
   "source": [
    "首先导入mtcars这个样本集，该样本集内容如下：\n",
    "- 每加仑里程(mpg)\n",
    "- 气缸排量(disp)\n",
    "- 马力(hp)\n",
    "- 汽车重量(wt)"
   ]
  },
  {
   "cell_type": "code",
   "execution_count": 1,
   "metadata": {
    "ExecuteTime": {
     "end_time": "2020-04-04T10:35:57.492990Z",
     "start_time": "2020-04-04T10:35:57.448Z"
    }
   },
   "outputs": [
    {
     "name": "stdout",
     "output_type": "stream",
     "text": [
      "                   mpg disp  hp    wt\n",
      "Mazda RX4         21.0  160 110 2.620\n",
      "Mazda RX4 Wag     21.0  160 110 2.875\n",
      "Datsun 710        22.8  108  93 2.320\n",
      "Hornet 4 Drive    21.4  258 110 3.215\n",
      "Hornet Sportabout 18.7  360 175 3.440\n",
      "Valiant           18.1  225 105 3.460\n"
     ]
    }
   ],
   "source": [
    "input <- mtcars[,c(\"mpg\",\"disp\",\"hp\",\"wt\")]\n",
    "print(head(input))"
   ]
  },
  {
   "cell_type": "markdown",
   "metadata": {},
   "source": [
    "创建模型并回归\n",
    "- 输入：\n",
    "    - mpg：目标变量\n",
    "    - disp, hp, wt：解释变量\n",
    "- 输出：\n",
    "    - Intercept：截距\n",
    "    - disp, hp, wt：各解释变量的系数"
   ]
  },
  {
   "cell_type": "code",
   "execution_count": 11,
   "metadata": {
    "ExecuteTime": {
     "end_time": "2020-04-04T10:51:28.493702Z",
     "start_time": "2020-04-04T10:51:28.465Z"
    }
   },
   "outputs": [
    {
     "name": "stdout",
     "output_type": "stream",
     "text": [
      "\n",
      "Call:\n",
      "lm(formula = mpg ~ disp + hp + wt, data = input)\n",
      "\n",
      "Coefficients:\n",
      "(Intercept)         disp           hp           wt  \n",
      "  37.105505    -0.000937    -0.031157    -3.800891  \n",
      "\n"
     ]
    }
   ],
   "source": [
    "input <- mtcars[,c(\"mpg\",\"disp\",\"hp\",\"wt\")]\n",
    " \n",
    "# 创建线性关系模型\n",
    "lm <- lm(mpg~disp+hp+wt, data = input)\n",
    "print(lm)"
   ]
  },
  {
   "cell_type": "markdown",
   "metadata": {
    "ExecuteTime": {
     "end_time": "2020-04-04T10:44:07.801904Z",
     "start_time": "2020-04-04T10:44:07.741Z"
    }
   },
   "source": [
    "输出模型的全部参数\n",
    "- Residuals：残差（Y的预测值-Y的实际值）\n",
    "    - Min：残差的最小值\n",
    "    - 1Q：残差的第一四分位数\n",
    "    - Median：残差的中位数\n",
    "    - 3Q：残差的第三四分位数\n",
    "    - MAX：残差的最大值\n",
    "- Coefficients：参数\n",
    "    - Estimate：拟合出来的参数，所以模型为： $mpg = -0.000937 * disp - 0.031157 * hp - 3.800891 * wt + 37.105505$\n",
    "    - Std. Error：残差SS / 残差df 的平方根。这个与测定系数一样都能描述回归模型与实际数据的拟合程度，它代表的是实际值与回归线的距离，当然这个值越小越好，不过具体小到什么程度？由于这个值实在没有范围，因此还很难界定。\n",
    "    - t value：代表两个参数的弃真概率，1-P值是置信度。\n",
    "    - Pr(>|t|)：显著水准\n",
    "    \n",
    "- Signif.：显著水准，三个星就是100%；两个星是99%；一个星是95%\n",
    "    \n",
    "- Residual standard error：表示残差的标准差，自由度为n-2。\n",
    "- Multiple R-squared：测定系数，也叫拟合优度。是相关系数R的平方，同时也等于表2中回归分析SS/(回归分析SS+残差SS)，这个值在0~1之间，越大，代表回归模型与实际数据的拟合程度越高。\n",
    "- Adjusted R-squared：校正的测定系数。对同一数据集进行拟合的多个模型中，哪个模型的Adjusted R-squared越大，该模型的拟合度就越好。对两个具有不同个数的自变量的回归方程进行比较时，还必须考虑方程所包含的自变量个数的影响，为此提出，所谓“最优”回归方程是指校正的决定系数最大者。\n",
    "- F-statistic: 回归分析MS/残差MS。\n",
    "- P-value：代表两个参数的弃真概率，1-P值是置信度。"
   ]
  },
  {
   "cell_type": "code",
   "execution_count": 13,
   "metadata": {
    "ExecuteTime": {
     "end_time": "2020-04-04T10:54:37.230108Z",
     "start_time": "2020-04-04T10:54:37.187Z"
    }
   },
   "outputs": [
    {
     "data": {
      "text/plain": [
       "\n",
       "Call:\n",
       "lm(formula = mpg ~ disp + hp + wt, data = input)\n",
       "\n",
       "Residuals:\n",
       "   Min     1Q Median     3Q    Max \n",
       "-3.891 -1.640 -0.172  1.061  5.861 \n",
       "\n",
       "Coefficients:\n",
       "             Estimate Std. Error t value Pr(>|t|)    \n",
       "(Intercept) 37.105505   2.110815  17.579  < 2e-16 ***\n",
       "disp        -0.000937   0.010350  -0.091  0.92851    \n",
       "hp          -0.031157   0.011436  -2.724  0.01097 *  \n",
       "wt          -3.800891   1.066191  -3.565  0.00133 ** \n",
       "---\n",
       "Signif. codes:  0 ‘***’ 0.001 ‘**’ 0.01 ‘*’ 0.05 ‘.’ 0.1 ‘ ’ 1\n",
       "\n",
       "Residual standard error: 2.639 on 28 degrees of freedom\n",
       "Multiple R-squared:  0.8268,\tAdjusted R-squared:  0.8083 \n",
       "F-statistic: 44.57 on 3 and 28 DF,  p-value: 8.65e-11\n"
      ]
     },
     "metadata": {},
     "output_type": "display_data"
    }
   ],
   "source": [
    "summary(lm)"
   ]
  }
 ],
 "metadata": {
  "kernelspec": {
   "display_name": "R",
   "language": "R",
   "name": "ir"
  },
  "language_info": {
   "codemirror_mode": "r",
   "file_extension": ".r",
   "mimetype": "text/x-r-source",
   "name": "R",
   "pygments_lexer": "r",
   "version": "3.6.3"
  },
  "toc": {
   "base_numbering": 1,
   "nav_menu": {},
   "number_sections": true,
   "sideBar": true,
   "skip_h1_title": false,
   "title_cell": "Table of Contents",
   "title_sidebar": "Contents",
   "toc_cell": false,
   "toc_position": {},
   "toc_section_display": true,
   "toc_window_display": false
  }
 },
 "nbformat": 4,
 "nbformat_minor": 4
}
