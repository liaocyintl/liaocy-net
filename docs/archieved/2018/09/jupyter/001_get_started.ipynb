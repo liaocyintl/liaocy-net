{
 "cells": [
  {
   "cell_type": "markdown",
   "metadata": {},
   "source": [
    "# Tensorflow的简单使用\n",
    "\n",
    "https://www.tensorflow.org/tutorials/?hl=en"
   ]
  },
  {
   "cell_type": "code",
   "execution_count": 9,
   "metadata": {},
   "outputs": [
    {
     "name": "stdout",
     "output_type": "stream",
     "text": [
      "Collecting tensorflow-gpu\n",
      "\u001b[?25l  Downloading https://files.pythonhosted.org/packages/25/52/01438b81806765936eee690709edc2a975472c4e9d8d465a01840869c691/tensorflow_gpu-1.11.0-cp36-cp36m-manylinux1_x86_64.whl (258.8MB)\n",
      "\u001b[K    100% |████████████████████████████████| 258.8MB 46kB/s \n",
      "\u001b[?25hRequirement already satisfied: setuptools<=39.1.0 in /home/liaocy/.pyenv/versions/anaconda3-5.2.0/lib/python3.6/site-packages (from tensorflow-gpu) (39.1.0)\n",
      "Requirement already satisfied: astor>=0.6.0 in /home/liaocy/.pyenv/versions/anaconda3-5.2.0/lib/python3.6/site-packages (from tensorflow-gpu) (0.7.1)\n",
      "Requirement already satisfied: numpy>=1.13.3 in /home/liaocy/.pyenv/versions/anaconda3-5.2.0/lib/python3.6/site-packages (from tensorflow-gpu) (1.14.3)\n",
      "Requirement already satisfied: gast>=0.2.0 in /home/liaocy/.pyenv/versions/anaconda3-5.2.0/lib/python3.6/site-packages (from tensorflow-gpu) (0.2.0)\n",
      "Requirement already satisfied: wheel>=0.26 in /home/liaocy/.pyenv/versions/anaconda3-5.2.0/lib/python3.6/site-packages (from tensorflow-gpu) (0.31.1)\n",
      "Collecting keras-preprocessing>=1.0.3 (from tensorflow-gpu)\n",
      "  Downloading https://files.pythonhosted.org/packages/b3/bd/796f986980da4d6adc77ffd8b2b11074e7b17a7b74b03789aefac5709c4b/Keras_Preprocessing-1.0.3-py2.py3-none-any.whl\n",
      "Requirement already satisfied: absl-py>=0.1.6 in /home/liaocy/.pyenv/versions/anaconda3-5.2.0/lib/python3.6/site-packages (from tensorflow-gpu) (0.4.1)\n",
      "Requirement already satisfied: protobuf>=3.6.0 in /home/liaocy/.pyenv/versions/anaconda3-5.2.0/lib/python3.6/site-packages (from tensorflow-gpu) (3.6.0)\n",
      "Collecting tensorboard<1.12.0,>=1.11.0 (from tensorflow-gpu)\n",
      "\u001b[?25l  Downloading https://files.pythonhosted.org/packages/9b/2f/4d788919b1feef04624d63ed6ea45a49d1d1c834199ec50716edb5d310f4/tensorboard-1.11.0-py3-none-any.whl (3.0MB)\n",
      "\u001b[K    100% |████████████████████████████████| 3.0MB 13.3MB/s \n",
      "\u001b[?25hRequirement already satisfied: grpcio>=1.8.6 in /home/liaocy/.pyenv/versions/anaconda3-5.2.0/lib/python3.6/site-packages (from tensorflow-gpu) (1.12.1)\n",
      "Requirement already satisfied: termcolor>=1.1.0 in /home/liaocy/.pyenv/versions/anaconda3-5.2.0/lib/python3.6/site-packages (from tensorflow-gpu) (1.1.0)\n",
      "Collecting keras-applications>=1.0.5 (from tensorflow-gpu)\n",
      "\u001b[?25l  Downloading https://files.pythonhosted.org/packages/3f/9c/6e9393ead970fd97be0cfde912697dafec5800d9191f5ba25352fa537d72/Keras_Applications-1.0.5-py2.py3-none-any.whl (44kB)\n",
      "\u001b[K    100% |████████████████████████████████| 51kB 14.0MB/s \n",
      "\u001b[?25hRequirement already satisfied: six>=1.10.0 in /home/liaocy/.pyenv/versions/anaconda3-5.2.0/lib/python3.6/site-packages (from tensorflow-gpu) (1.11.0)\n",
      "Requirement already satisfied: scipy>=0.14 in /home/liaocy/.pyenv/versions/anaconda3-5.2.0/lib/python3.6/site-packages (from keras-preprocessing>=1.0.3->tensorflow-gpu) (1.1.0)\n",
      "Requirement already satisfied: keras>=2.1.6 in /home/liaocy/.pyenv/versions/anaconda3-5.2.0/lib/python3.6/site-packages (from keras-preprocessing>=1.0.3->tensorflow-gpu) (2.2.2)\n",
      "Requirement already satisfied: werkzeug>=0.11.10 in /home/liaocy/.pyenv/versions/anaconda3-5.2.0/lib/python3.6/site-packages (from tensorboard<1.12.0,>=1.11.0->tensorflow-gpu) (0.14.1)\n",
      "Requirement already satisfied: markdown>=2.6.8 in /home/liaocy/.pyenv/versions/anaconda3-5.2.0/lib/python3.6/site-packages (from tensorboard<1.12.0,>=1.11.0->tensorflow-gpu) (2.6.11)\n",
      "Requirement already satisfied: h5py in /home/liaocy/.pyenv/versions/anaconda3-5.2.0/lib/python3.6/site-packages (from keras-applications>=1.0.5->tensorflow-gpu) (2.7.1)\n",
      "Requirement already satisfied: pyyaml in /home/liaocy/.pyenv/versions/anaconda3-5.2.0/lib/python3.6/site-packages (from keras>=2.1.6->keras-preprocessing>=1.0.3->tensorflow-gpu) (3.12)\n",
      "\u001b[31mtensorflow 1.9.0 has requirement tensorboard<1.10.0,>=1.9.0, but you'll have tensorboard 1.11.0 which is incompatible.\u001b[0m\n",
      "\u001b[31mkeras 2.2.2 has requirement keras_applications==1.0.4, but you'll have keras-applications 1.0.5 which is incompatible.\u001b[0m\n",
      "\u001b[31mkeras 2.2.2 has requirement keras_preprocessing==1.0.2, but you'll have keras-preprocessing 1.0.3 which is incompatible.\u001b[0m\n",
      "Installing collected packages: keras-preprocessing, tensorboard, keras-applications, tensorflow-gpu\n",
      "  Found existing installation: Keras-Preprocessing 1.0.2\n",
      "    Uninstalling Keras-Preprocessing-1.0.2:\n",
      "      Successfully uninstalled Keras-Preprocessing-1.0.2\n",
      "  Found existing installation: tensorboard 1.9.0\n",
      "    Uninstalling tensorboard-1.9.0:\n",
      "      Successfully uninstalled tensorboard-1.9.0\n",
      "  Found existing installation: Keras-Applications 1.0.4\n",
      "    Uninstalling Keras-Applications-1.0.4:\n",
      "      Successfully uninstalled Keras-Applications-1.0.4\n",
      "Successfully installed keras-applications-1.0.5 keras-preprocessing-1.0.3 tensorboard-1.11.0 tensorflow-gpu-1.11.0\n"
     ]
    }
   ],
   "source": [
    "# 安装tensorflow GPU版本\n",
    "!pip install tensorflow-gpu"
   ]
  },
  {
   "cell_type": "code",
   "execution_count": 10,
   "metadata": {},
   "outputs": [],
   "source": [
    "# 仅使用1号GPU 参考 https://github.com/keras-team/keras/issues/6031\n",
    "import os\n",
    "os.environ[\"CUDA_VISIBLE_DEVICES\"]=\"0\""
   ]
  },
  {
   "cell_type": "code",
   "execution_count": 11,
   "metadata": {},
   "outputs": [],
   "source": [
    "# 仅使用需要的显存\n",
    "import tensorflow as tf\n",
    "from tensorflow.keras import backend as K\n",
    "config = tf.ConfigProto()\n",
    "config.gpu_options.allow_growth=True\n",
    "sess = tf.Session(config=config)\n",
    "K.set_session(sess)"
   ]
  },
  {
   "cell_type": "markdown",
   "metadata": {},
   "source": [
    "## 做手写数据库MNIST分类"
   ]
  },
  {
   "cell_type": "code",
   "execution_count": 12,
   "metadata": {},
   "outputs": [
    {
     "data": {
      "text/plain": [
       "((60000, 28, 28), (10000, 28, 28))"
      ]
     },
     "execution_count": 12,
     "metadata": {},
     "output_type": "execute_result"
    }
   ],
   "source": [
    "# 读取数据\n",
    "mnist = tf.keras.datasets.mnist\n",
    "# 把数据分为训练数据和测试数据\n",
    "(x_train, y_train),(x_test, y_test) = mnist.load_data()\n",
    "# 对数据进行归一化\n",
    "x_train, x_test = x_train / 255.0, x_test / 255.0\n",
    "# 可以看到训练数据60000枚，测试数据10000枚\n",
    "(x_train.shape, x_test.shape)"
   ]
  },
  {
   "cell_type": "code",
   "execution_count": 16,
   "metadata": {},
   "outputs": [],
   "source": [
    "# 现在tensorflow集成了keras，可以很方便的创建神经网络\n",
    "\n",
    "# 创建一个顺序模型（Sequential） https://keras.io/zh/models/sequential/\n",
    "model = tf.keras.models.Sequential([\n",
    "    # 输入层对图片进行展平，包含28*28=784个神经元 https://keras.io/zh/layers/core/#flatten\n",
    "    tf.keras.layers.Flatten(),\n",
    "    # 隐藏层：全连接层（Dense），包含512个神经元 https://keras.io/zh/layers/core/#dense\n",
    "    # 使用 线性整流函数（ReLU）激活 https://zh.wikipedia.org/wiki/%E7%BA%BF%E6%80%A7%E6%95%B4%E6%B5%81%E5%87%BD%E6%95%B0\n",
    "    tf.keras.layers.Dense(512, activation=tf.nn.relu),\n",
    "    # 增加一个20% Dropout防止过拟合 https://keras.io/zh/layers/core/#dropout\n",
    "    tf.keras.layers.Dropout(0.2),\n",
    "    # 输出层：全连接层，包含10个神经元，代表0-9十个数字，用softmax函数激活。\n",
    "    tf.keras.layers.Dense(10, activation=tf.nn.softmax)\n",
    "])\n",
    "\n",
    "# 编译网络\n",
    "# 使用Adam优化器 https://keras.io/zh/optimizers/#adam\n",
    "# 使用稀疏交叉熵（sparse_categorical_crossentropy）作为目的函数 https://keras.io/ja/objectives/\n",
    "# 使用精度进行验证\n",
    "model.compile(optimizer='adam',\n",
    "              loss='sparse_categorical_crossentropy',\n",
    "              metrics=['accuracy'])"
   ]
  },
  {
   "cell_type": "code",
   "execution_count": 17,
   "metadata": {},
   "outputs": [
    {
     "name": "stdout",
     "output_type": "stream",
     "text": [
      "Epoch 1/5\n",
      "60000/60000 [==============================] - 5s 90us/step - loss: 0.2208 - acc: 0.9346\n",
      "Epoch 2/5\n",
      "60000/60000 [==============================] - 4s 68us/step - loss: 0.0955 - acc: 0.9708\n",
      "Epoch 3/5\n",
      "60000/60000 [==============================] - 4s 68us/step - loss: 0.0695 - acc: 0.9779\n",
      "Epoch 4/5\n",
      "60000/60000 [==============================] - 4s 68us/step - loss: 0.0530 - acc: 0.9831\n",
      "Epoch 5/5\n",
      "60000/60000 [==============================] - 4s 67us/step - loss: 0.0431 - acc: 0.9862\n"
     ]
    },
    {
     "data": {
      "text/plain": [
       "<tensorflow.python.keras.callbacks.History at 0x7fa1e4703208>"
      ]
     },
     "execution_count": 17,
     "metadata": {},
     "output_type": "execute_result"
    }
   ],
   "source": [
    "# 使用训练数据训练网络，一共训练5次（epoch），可以看到精度达到了98%以上\n",
    "model.fit(x_train, y_train, epochs=5)"
   ]
  },
  {
   "cell_type": "code",
   "execution_count": 18,
   "metadata": {},
   "outputs": [
    {
     "name": "stdout",
     "output_type": "stream",
     "text": [
      "10000/10000 [==============================] - 0s 45us/step\n"
     ]
    },
    {
     "data": {
      "text/plain": [
       "[0.06517951938676415, 0.9809]"
      ]
     },
     "execution_count": 18,
     "metadata": {},
     "output_type": "execute_result"
    }
   ],
   "source": [
    "# 使用测试数据对分类精度进行测试，在测试集上达到98.2%的精度\n",
    "model.evaluate(x_test, y_test)"
   ]
  },
  {
   "cell_type": "code",
   "execution_count": 20,
   "metadata": {},
   "outputs": [
    {
     "name": "stdout",
     "output_type": "stream",
     "text": [
      "Epoch 1/5\n",
      "60000/60000 [==============================] - 4s 69us/step - loss: 0.0198 - acc: 0.9934\n",
      "Epoch 2/5\n",
      "60000/60000 [==============================] - 4s 67us/step - loss: 0.0192 - acc: 0.9935\n",
      "Epoch 3/5\n",
      "60000/60000 [==============================] - 4s 67us/step - loss: 0.0183 - acc: 0.9934\n",
      "Epoch 4/5\n",
      "60000/60000 [==============================] - 4s 69us/step - loss: 0.0164 - acc: 0.9944\n",
      "Epoch 5/5\n",
      "60000/60000 [==============================] - 4s 69us/step - loss: 0.0150 - acc: 0.9948\n"
     ]
    },
    {
     "data": {
      "text/plain": [
       "<tensorflow.python.keras.callbacks.History at 0x7fa2626c0940>"
      ]
     },
     "execution_count": 20,
     "metadata": {},
     "output_type": "execute_result"
    }
   ],
   "source": [
    "# 尝试再训练5组\n",
    "model.fit(x_train, y_train, epochs=5)"
   ]
  },
  {
   "cell_type": "code",
   "execution_count": 21,
   "metadata": {},
   "outputs": [
    {
     "name": "stdout",
     "output_type": "stream",
     "text": [
      "10000/10000 [==============================] - 0s 27us/step\n"
     ]
    },
    {
     "data": {
      "text/plain": [
       "[0.07587860820080278, 0.9832]"
      ]
     },
     "execution_count": 21,
     "metadata": {},
     "output_type": "execute_result"
    }
   ],
   "source": [
    "# 再测试，在测试数据提升不明显，训练数据明显，出现过拟合现象\n",
    "model.evaluate(x_test, y_test)"
   ]
  }
 ],
 "metadata": {
  "kernelspec": {
   "display_name": "Python 3",
   "language": "python",
   "name": "python3"
  },
  "language_info": {
   "codemirror_mode": {
    "name": "ipython",
    "version": 3
   },
   "file_extension": ".py",
   "mimetype": "text/x-python",
   "name": "python",
   "nbconvert_exporter": "python",
   "pygments_lexer": "ipython3",
   "version": "3.6.5"
  }
 },
 "nbformat": 4,
 "nbformat_minor": 2
}
