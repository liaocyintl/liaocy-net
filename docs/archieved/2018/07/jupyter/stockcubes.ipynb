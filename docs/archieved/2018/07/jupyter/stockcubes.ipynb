{
 "cells": [
  {
   "cell_type": "code",
   "execution_count": 22,
   "metadata": {},
   "outputs": [
    {
     "data": {
      "text/html": [
       "<div>\n",
       "<style scoped>\n",
       "    .dataframe tbody tr th:only-of-type {\n",
       "        vertical-align: middle;\n",
       "    }\n",
       "\n",
       "    .dataframe tbody tr th {\n",
       "        vertical-align: top;\n",
       "    }\n",
       "\n",
       "    .dataframe thead th {\n",
       "        text-align: right;\n",
       "    }\n",
       "</style>\n",
       "<table border=\"1\" class=\"dataframe\">\n",
       "  <thead>\n",
       "    <tr style=\"text-align: right;\">\n",
       "      <th></th>\n",
       "      <th>date</th>\n",
       "      <th>open</th>\n",
       "      <th>close</th>\n",
       "      <th>high</th>\n",
       "      <th>low</th>\n",
       "      <th>volume</th>\n",
       "      <th>code</th>\n",
       "    </tr>\n",
       "  </thead>\n",
       "  <tbody>\n",
       "    <tr>\n",
       "      <th>0</th>\n",
       "      <td>2015-01-05</td>\n",
       "      <td>4.095</td>\n",
       "      <td>4.203</td>\n",
       "      <td>4.277</td>\n",
       "      <td>4.070</td>\n",
       "      <td>13658516.0</td>\n",
       "      <td>601398</td>\n",
       "    </tr>\n",
       "    <tr>\n",
       "      <th>1</th>\n",
       "      <td>2015-01-06</td>\n",
       "      <td>4.153</td>\n",
       "      <td>4.236</td>\n",
       "      <td>4.452</td>\n",
       "      <td>4.111</td>\n",
       "      <td>14975615.0</td>\n",
       "      <td>601398</td>\n",
       "    </tr>\n",
       "    <tr>\n",
       "      <th>2</th>\n",
       "      <td>2015-01-07</td>\n",
       "      <td>4.153</td>\n",
       "      <td>4.186</td>\n",
       "      <td>4.236</td>\n",
       "      <td>4.111</td>\n",
       "      <td>8105967.0</td>\n",
       "      <td>601398</td>\n",
       "    </tr>\n",
       "    <tr>\n",
       "      <th>3</th>\n",
       "      <td>2015-01-08</td>\n",
       "      <td>4.194</td>\n",
       "      <td>4.012</td>\n",
       "      <td>4.211</td>\n",
       "      <td>3.987</td>\n",
       "      <td>6920490.0</td>\n",
       "      <td>601398</td>\n",
       "    </tr>\n",
       "    <tr>\n",
       "      <th>4</th>\n",
       "      <td>2015-01-09</td>\n",
       "      <td>4.003</td>\n",
       "      <td>4.053</td>\n",
       "      <td>4.277</td>\n",
       "      <td>3.937</td>\n",
       "      <td>9915903.0</td>\n",
       "      <td>601398</td>\n",
       "    </tr>\n",
       "  </tbody>\n",
       "</table>\n",
       "</div>"
      ],
      "text/plain": [
       "         date   open  close   high    low      volume    code\n",
       "0  2015-01-05  4.095  4.203  4.277  4.070  13658516.0  601398\n",
       "1  2015-01-06  4.153  4.236  4.452  4.111  14975615.0  601398\n",
       "2  2015-01-07  4.153  4.186  4.236  4.111   8105967.0  601398\n",
       "3  2015-01-08  4.194  4.012  4.211  3.987   6920490.0  601398\n",
       "4  2015-01-09  4.003  4.053  4.277  3.937   9915903.0  601398"
      ]
     },
     "execution_count": 22,
     "metadata": {},
     "output_type": "execute_result"
    }
   ],
   "source": [
    "import tushare\n",
    "import pandas as pd\n",
    "\n",
    "\n",
    "#获取工商银行\"601398\"自2015年1月1日起的数据，日线，前复权\n",
    "#格式：日期，开盘价，收盘价，最高价，最低价，成交量，股票代码\n",
    "df = tushare.get_k_data(\"601398\", start=\"2015-01-01\")\n",
    "df.head()"
   ]
  },
  {
   "cell_type": "code",
   "execution_count": 26,
   "metadata": {},
   "outputs": [],
   "source": [
    "import sqlite3\n",
    "from pandas.io import sql\n",
    "\n",
    "#将股票数据写入数据库\n",
    "con = sqlite3.connect('./data.sqlite')\n",
    "df.to_sql(name=\"stock_601398\", con=con, if_exists=\"replace\", \n",
    "          dtype={\"date\":\"datetime\", \"open\":\"float\", \"close\":\"float\", \"high\":\"float\", \"low\":\"float\", \"volume\":\"float\", \"code\":\"int\"})"
   ]
  },
  {
   "cell_type": "code",
   "execution_count": 78,
   "metadata": {},
   "outputs": [],
   "source": [
    "# 构建工作空间\n",
    "from cubes import Workspace\n",
    "\n",
    "workspace = Workspace()\n",
    "# 连接数据源\n",
    "workspace.register_default_store(\"sql\", url=\"sqlite:///data.sqlite\")\n",
    "# 导入模型\n",
    "workspace.import_model(\"stock_model.json\")"
   ]
  },
  {
   "cell_type": "code",
   "execution_count": 79,
   "metadata": {},
   "outputs": [
    {
     "name": "stdout",
     "output_type": "stream",
     "text": [
      "记录数 872\n",
      "收盘价最大值 7.421\n",
      "收盘价最小值 3.383\n"
     ]
    }
   ],
   "source": [
    "# 执行聚合\n",
    "# Browser 是一个对象用来执行聚合操作和其它对数据立方体的查询。\n",
    "browser = workspace.browser(\"stock_601398\")\n",
    "\n",
    "result = browser.aggregate()\n",
    "\n",
    "print(\"记录数\", result.summary[\"record_count\"])\n",
    "\n",
    "print(\"收盘价最大值\", result.summary[\"close_max\"])\n",
    "\n",
    "print(\"收盘价最小值\", result.summary[\"close_min\"])"
   ]
  }
 ],
 "metadata": {
  "kernelspec": {
   "display_name": "Python 3",
   "language": "python",
   "name": "python3"
  },
  "language_info": {
   "codemirror_mode": {
    "name": "ipython",
    "version": 3
   },
   "file_extension": ".py",
   "mimetype": "text/x-python",
   "name": "python",
   "nbconvert_exporter": "python",
   "pygments_lexer": "ipython3",
   "version": "3.6.5"
  }
 },
 "nbformat": 4,
 "nbformat_minor": 2
}
