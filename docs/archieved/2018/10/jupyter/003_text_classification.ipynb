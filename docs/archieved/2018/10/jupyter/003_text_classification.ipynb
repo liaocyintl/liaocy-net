{
 "cells": [
  {
   "cell_type": "markdown",
   "metadata": {},
   "source": [
    "# 基本文本分类器\n",
    "\n",
    "这一章我们学习做一个基于神经网络的基本文本分类器\n",
    "\n",
    "参考文档：[Text classification with movie reviews](https://www.tensorflow.org/tutorials/keras/basic_text_classification)\n",
    "\n",
    "## 任务：\n",
    "\n",
    "我们测试将电影评价文本分为正面评价和负面评价。这是一个二值分类器，可以用在很多重要的应用和机器学习问题中。\n",
    "\n",
    "我们使用 [IMDB 数据集](https://www.tensorflow.org/api_docs/python/tf/keras/datasets/imdb)，它包含对于 [国际电影数据库](https://www.imdb.com/) 中50,000部电影的评价。这些评价文本被分为25,000个评价作为训练数据，另外25,000个评价作为测试数据。训练数据和测试数据是平衡的，也就是说他们之中包含相同数量的正面评价和负面评价。\n",
    "\n",
    "我们使用 tf.keras ，这是一个高级别的API可以用来建立和训练Tensorflow模型。 更高级的文本分类，请参考 [MLCC文本分类](https://developers.google.com/machine-learning/guides/text-classification/)。"
   ]
  },
  {
   "cell_type": "code",
   "execution_count": 2,
   "metadata": {},
   "outputs": [
    {
     "name": "stdout",
     "output_type": "stream",
     "text": [
      "1.10.0\n"
     ]
    }
   ],
   "source": [
    "import tensorflow as tf\n",
    "from tensorflow import keras\n",
    "\n",
    "import numpy as np\n",
    "\n",
    "print(tf.__version__)"
   ]
  },
  {
   "cell_type": "markdown",
   "metadata": {},
   "source": [
    "## 下载IMDB数据集\n",
    "\n",
    "IMDB已经被Tesorflow打好包了。在它里面，所有的文本中的词已经被转换为指示该词在词典中的位置，也就是这个词的ID。\n",
    "\n",
    "下面的代码用来下载IMDB到你的计算机。\n",
    "\n",
    "参数 num_words=10000 表示保留前10,000个频率最高的词在训练数据里。我们丢弃不常出现的词以保证数据的大小是可以被接受的。"
   ]
  },
  {
   "cell_type": "code",
   "execution_count": 5,
   "metadata": {},
   "outputs": [
    {
     "name": "stdout",
     "output_type": "stream",
     "text": [
      "(25000,) (25000,) (25000,) (25000,)\n"
     ]
    }
   ],
   "source": [
    "imdb = keras.datasets.imdb\n",
    "(train_data, train_labels), (test_data, test_labels) = imdb.load_data(num_words=10000)\n",
    "print(train_data.shape, train_labels.shape, test_data.shape, test_labels.shape)"
   ]
  },
  {
   "cell_type": "markdown",
   "metadata": {},
   "source": [
    "## 分析数据\n",
    "\n",
    "我们花一些时间来分析这些数据。源数据里的每一项都是一个整形数组，每一个数字表示一个词，这些数字合起来表示该评论。目标数据里包含所对应评价的标签，如果是1表示这是正面评价，如果是0表示这是负面评价。"
   ]
  },
  {
   "cell_type": "code",
   "execution_count": 6,
   "metadata": {},
   "outputs": [
    {
     "name": "stdout",
     "output_type": "stream",
     "text": [
      "Training entries: 25000, labels: 25000\n"
     ]
    }
   ],
   "source": [
    "print(\"Training entries: {}, labels: {}\".format(len(train_data), len(train_labels)))"
   ]
  },
  {
   "cell_type": "code",
   "execution_count": 8,
   "metadata": {},
   "outputs": [
    {
     "name": "stdout",
     "output_type": "stream",
     "text": [
      "[1, 14, 22, 16, 43, 530, 973, 1622, 1385, 65, 458, 4468, 66, 3941, 4, 173, 36, 256, 5, 25, 100, 43, 838, 112, 50, 670, 2, 9, 35, 480, 284, 5, 150, 4, 172, 112, 167, 2, 336, 385, 39, 4, 172, 4536, 1111, 17, 546, 38, 13, 447, 4, 192, 50, 16, 6, 147, 2025, 19, 14, 22, 4, 1920, 4613, 469, 4, 22, 71, 87, 12, 16, 43, 530, 38, 76, 15, 13, 1247, 4, 22, 17, 515, 17, 12, 16, 626, 18, 2, 5, 62, 386, 12, 8, 316, 8, 106, 5, 4, 2223, 5244, 16, 480, 66, 3785, 33, 4, 130, 12, 16, 38, 619, 5, 25, 124, 51, 36, 135, 48, 25, 1415, 33, 6, 22, 12, 215, 28, 77, 52, 5, 14, 407, 16, 82, 2, 8, 4, 107, 117, 5952, 15, 256, 4, 2, 7, 3766, 5, 723, 36, 71, 43, 530, 476, 26, 400, 317, 46, 7, 4, 2, 1029, 13, 104, 88, 4, 381, 15, 297, 98, 32, 2071, 56, 26, 141, 6, 194, 7486, 18, 4, 226, 22, 21, 134, 476, 26, 480, 5, 144, 30, 5535, 18, 51, 36, 28, 224, 92, 25, 104, 4, 226, 65, 16, 38, 1334, 88, 12, 16, 283, 5, 16, 4472, 113, 103, 32, 15, 16, 5345, 19, 178, 32]\n"
     ]
    }
   ],
   "source": [
    "# 每一句话都被转化为词语ID的整形数组\n",
    "print(train_data[0])"
   ]
  },
  {
   "cell_type": "code",
   "execution_count": 9,
   "metadata": {},
   "outputs": [
    {
     "name": "stdout",
     "output_type": "stream",
     "text": [
      "1\n"
     ]
    }
   ],
   "source": [
    "# label则是这条评论的正负面信息\n",
    "print(train_labels[0])"
   ]
  },
  {
   "cell_type": "code",
   "execution_count": 10,
   "metadata": {},
   "outputs": [
    {
     "name": "stdout",
     "output_type": "stream",
     "text": [
      "Downloading data from https://storage.googleapis.com/tensorflow/tf-keras-datasets/imdb_word_index.json\n",
      "1646592/1641221 [==============================] - 0s 0us/step\n"
     ]
    }
   ],
   "source": [
    "# 我们还可以通过词典来还原这些词\n",
    "\n",
    "# 下载词典\n",
    "word_index = imdb.get_word_index()\n",
    "\n",
    "# 词典最前面的几个索引位置是保留的\n",
    "word_index = {k:(v+3) for k,v in word_index.items()} \n",
    "word_index[\"<PAD>\"] = 0\n",
    "word_index[\"<START>\"] = 1\n",
    "word_index[\"<UNK>\"] = 2  # unknown\n",
    "word_index[\"<UNUSED>\"] = 3\n",
    "\n",
    "reverse_word_index = dict([(value, key) for (key, value) in word_index.items()])\n",
    "\n",
    "# 转换函数\n",
    "def decode_review(text):\n",
    "    return ' '.join([reverse_word_index.get(i, '?') for i in text])"
   ]
  },
  {
   "cell_type": "code",
   "execution_count": 11,
   "metadata": {},
   "outputs": [
    {
     "data": {
      "text/plain": [
       "\"<START> this film was just brilliant casting location scenery story direction everyone's really suited the part they played and you could just imagine being there robert <UNK> is an amazing actor and now the same being director <UNK> father came from the same scottish island as myself so i loved the fact there was a real connection with this film the witty remarks throughout the film were great it was just brilliant so much that i bought the film as soon as it was released for <UNK> and would recommend it to everyone to watch and the fly fishing was amazing really cried at the end it was so sad and you know what they say if you cry at a film it must have been good and this definitely was also <UNK> to the two little boy's that played the <UNK> of norman and paul they were just brilliant children are often left out of the <UNK> list i think because the stars that play them all grown up are such a big profile for the whole film but these children are amazing and should be praised for what they have done don't you think the whole story was so lovely because it was true and was someone's life after all that was shared with us all\""
      ]
     },
     "execution_count": 11,
     "metadata": {},
     "output_type": "execute_result"
    }
   ],
   "source": [
    "# 试还原训练数据中的第一条评论\n",
    "\n",
    "decode_review(train_data[0])"
   ]
  },
  {
   "cell_type": "markdown",
   "metadata": {},
   "source": [
    "## 准备数据\n",
    "\n",
    "这些评论（整形数组）必须被转换为张量，才能输入到神经网络中。我们通过下面两个方法进行转换：\n",
    "\n",
    "1. 一种One-hot编码方式将每句话编码为固定长度的向量。比如说，有一个句子[3,5]，可能被编码为一个10,000维的向量，在这个向量里，第3个和第5个元素为1，其余的元素均为0。这样，这个向量就可以作为网络的输入层。这个过程需要消耗内存，将构建一个 词典大小×评论数量 的矩阵。\n",
    "1. 或者，我们可以填补这些数组让它们具有相同的长度，以此来建立一个 最大长度×评论数量 的整形张量。我们可以用一个嵌入层embedding layer来学习词嵌入，将一个词映射成为固定维度的稠密向量。\n",
    "\n",
    "在这里我们使用第二种方式。\n",
    "我们使用 pad_sequences 函数来标准化长度："
   ]
  },
  {
   "cell_type": "code",
   "execution_count": 13,
   "metadata": {},
   "outputs": [
    {
     "data": {
      "text/plain": [
       "(256, 256)"
      ]
     },
     "execution_count": 13,
     "metadata": {},
     "output_type": "execute_result"
    }
   ],
   "source": [
    "train_data = keras.preprocessing.sequence.pad_sequences(train_data,\n",
    "                                                        value=word_index[\"<PAD>\"],\n",
    "                                                        padding='post',\n",
    "                                                        maxlen=256)\n",
    "\n",
    "test_data = keras.preprocessing.sequence.pad_sequences(test_data,\n",
    "                                                       value=word_index[\"<PAD>\"],\n",
    "                                                       padding='post',\n",
    "                                                       maxlen=256)\n",
    "\n",
    "# 查看结果\n",
    "\n",
    "len(train_data[0]), len(train_data[1])"
   ]
  },
  {
   "cell_type": "code",
   "execution_count": 14,
   "metadata": {},
   "outputs": [
    {
     "name": "stdout",
     "output_type": "stream",
     "text": [
      "[   1   14   22   16   43  530  973 1622 1385   65  458 4468   66 3941\n",
      "    4  173   36  256    5   25  100   43  838  112   50  670    2    9\n",
      "   35  480  284    5  150    4  172  112  167    2  336  385   39    4\n",
      "  172 4536 1111   17  546   38   13  447    4  192   50   16    6  147\n",
      " 2025   19   14   22    4 1920 4613  469    4   22   71   87   12   16\n",
      "   43  530   38   76   15   13 1247    4   22   17  515   17   12   16\n",
      "  626   18    2    5   62  386   12    8  316    8  106    5    4 2223\n",
      " 5244   16  480   66 3785   33    4  130   12   16   38  619    5   25\n",
      "  124   51   36  135   48   25 1415   33    6   22   12  215   28   77\n",
      "   52    5   14  407   16   82    2    8    4  107  117 5952   15  256\n",
      "    4    2    7 3766    5  723   36   71   43  530  476   26  400  317\n",
      "   46    7    4    2 1029   13  104   88    4  381   15  297   98   32\n",
      " 2071   56   26  141    6  194 7486   18    4  226   22   21  134  476\n",
      "   26  480    5  144   30 5535   18   51   36   28  224   92   25  104\n",
      "    4  226   65   16   38 1334   88   12   16  283    5   16 4472  113\n",
      "  103   32   15   16 5345   19  178   32    0    0    0    0    0    0\n",
      "    0    0    0    0    0    0    0    0    0    0    0    0    0    0\n",
      "    0    0    0    0    0    0    0    0    0    0    0    0    0    0\n",
      "    0    0    0    0]\n"
     ]
    }
   ],
   "source": [
    "## 输出填充过的第一个数据，我们会发现其实就是简单补0，直到256位\n",
    "\n",
    "print(train_data[0])"
   ]
  },
  {
   "cell_type": "markdown",
   "metadata": {},
   "source": [
    "## 建立模型\n",
    "\n",
    "建立神经网络模型其实就是堆积层。在这之前我们要考虑两个问题：\n",
    "\n",
    "1. 我们要建立多少个层\n",
    "2. 每一个隐藏层中需要多少个神经元\n",
    "\n",
    "比如说，输入数据由一个词索引的数组构成。预测的标签不是0就是1。我们就可以建立以下的模型："
   ]
  },
  {
   "cell_type": "code",
   "execution_count": 22,
   "metadata": {},
   "outputs": [
    {
     "name": "stdout",
     "output_type": "stream",
     "text": [
      "_________________________________________________________________\n",
      "Layer (type)                 Output Shape              Param #   \n",
      "=================================================================\n",
      "embedding_2 (Embedding)      (None, None, 16)          160000    \n",
      "_________________________________________________________________\n",
      "global_average_pooling1d_2 ( (None, 16)                0         \n",
      "_________________________________________________________________\n",
      "dense_5 (Dense)              (None, 16)                272       \n",
      "_________________________________________________________________\n",
      "dense_6 (Dense)              (None, 1)                 17        \n",
      "=================================================================\n",
      "Total params: 160,289\n",
      "Trainable params: 160,289\n",
      "Non-trainable params: 0\n",
      "_________________________________________________________________\n"
     ]
    }
   ],
   "source": [
    "# 数组的大小是词典的大小 （10,000个单词）\n",
    "\n",
    "vocab_size = 10000\n",
    "\n",
    "model = keras.Sequential()\n",
    "model.add(keras.layers.Embedding(vocab_size, 16))\n",
    "model.add(keras.layers.GlobalAveragePooling1D())\n",
    "model.add(keras.layers.Dense(16, activation=tf.nn.relu))\n",
    "model.add(keras.layers.Dense(1, activation=tf.nn.sigmoid))\n",
    "\n",
    "model.summary()"
   ]
  },
  {
   "cell_type": "markdown",
   "metadata": {},
   "source": [
    "### 各层说明\n",
    "\n",
    "1. 第一个层是一个 Embedding（嵌入） 层。该层的输入是一个整数编码的词汇表，并输出每个词索引的嵌入向量。这些向量是作为模型训练学习的。 向量为输出数组添加维度。\n",
    "1. 接下来，GlobalAveragePooling1D层通过对序列维度求平均，为每个示例返回固定长度的输出向量。这允许模型以尽可能最简单的方式处理可变长度的输入。\n",
    "1. 该固定长度的输出向量通过具有16个隐藏单元的完全连接（稠密）层。\n",
    "1. 最后一层与单个输出节点密集连接。 使用sigmoid激活函数，此值是介于0和1之间的浮点数，表示概率或置信度。"
   ]
  },
  {
   "cell_type": "markdown",
   "metadata": {},
   "source": [
    "### 隐藏\n",
    "上面的模型包含两个中间层或者说是隐藏层。层是以其输出的数量来表示其空间的维度。换句话说就是网络允许在学习过程中的自由度。\n",
    "\n",
    "如果一个模型具有很多的隐藏神经元（高空间维度），以及更多的层，这个网络就可以学习更多的表达。\n",
    "但是，这个网络就会变得非常复杂。\n",
    "而且这会导致网络学习到很多并不期待的模式，这些模式会在训练数据上变现的非常好，但在测试数据上表现的非常差。\n",
    "这就是传说中的过拟合"
   ]
  },
  {
   "cell_type": "markdown",
   "metadata": {},
   "source": [
    "## 损失函数和最优化\n",
    "\n",
    "神经网络模型需要一个损失函数和一个最优化函数。由于我们做的是一个二值分类问题，我们用 binary_crossentropy （二值交叉熵）来作为损失函数。\n",
    "\n",
    "不一定非要用 binary_crossentropy 作为损失函数，你也可以选择比如说 mean_squared_error （均方误差）。但是一般来说，binary_crossentropy在概率上表现很好。\n",
    "它可以计算出两个概率分布之间的“距离”。在我们的例子中，既计算出真实值分布和预测值分布之间的距离。\n",
    "\n",
    "顺便说一下，之后我们做回归问题，我们会介绍如果用均方差损失函数。\n",
    "\n",
    "现在，我们设置好损失函数优化方法，来编译模型。"
   ]
  },
  {
   "cell_type": "code",
   "execution_count": 23,
   "metadata": {},
   "outputs": [],
   "source": [
    "model.compile(optimizer=tf.train.AdamOptimizer(),\n",
    "              loss='binary_crossentropy',\n",
    "              metrics=['accuracy'])"
   ]
  },
  {
   "cell_type": "markdown",
   "metadata": {},
   "source": [
    "## 建立验证集\n",
    "\n",
    "当训练的时候，我们建立一个具有10,000个元素的验证集以测试模型的训练情况。\n",
    "我们训练好的模型，不能仅仅在训练集上表现良好，也必须在验证集上表现良好。"
   ]
  },
  {
   "cell_type": "code",
   "execution_count": 24,
   "metadata": {},
   "outputs": [],
   "source": [
    "x_val = train_data[:10000]\n",
    "partial_x_train = train_data[10000:]\n",
    "\n",
    "y_val = train_labels[:10000]\n",
    "partial_y_train = train_labels[10000:]"
   ]
  },
  {
   "cell_type": "markdown",
   "metadata": {},
   "source": [
    "## 训练模型\n",
    "\n",
    "\n",
    "我们设置训练40组。\n",
    "在随机梯度下降中，每一组使用512个训练数据。\n",
    "测试集设置为(x_val, y_val)。\n",
    "并输出详细信息（verbose=1）。"
   ]
  },
  {
   "cell_type": "code",
   "execution_count": 30,
   "metadata": {},
   "outputs": [
    {
     "name": "stdout",
     "output_type": "stream",
     "text": [
      "Train on 15000 samples, validate on 10000 samples\n",
      "Epoch 1/40\n",
      "15000/15000 [==============================] - 1s 55us/step - loss: 0.1740 - acc: 0.9409 - val_loss: 0.2897 - val_acc: 0.8847\n",
      "Epoch 2/40\n",
      "15000/15000 [==============================] - 1s 58us/step - loss: 0.1700 - acc: 0.9414 - val_loss: 0.2893 - val_acc: 0.8827\n",
      "Epoch 3/40\n",
      "15000/15000 [==============================] - 1s 55us/step - loss: 0.1657 - acc: 0.9446 - val_loss: 0.2886 - val_acc: 0.8844\n",
      "Epoch 4/40\n",
      "15000/15000 [==============================] - 1s 56us/step - loss: 0.1617 - acc: 0.9457 - val_loss: 0.2891 - val_acc: 0.8824\n",
      "Epoch 5/40\n",
      "15000/15000 [==============================] - 1s 57us/step - loss: 0.1586 - acc: 0.9472 - val_loss: 0.2913 - val_acc: 0.8834\n",
      "Epoch 6/40\n",
      "15000/15000 [==============================] - 1s 56us/step - loss: 0.1548 - acc: 0.9489 - val_loss: 0.2889 - val_acc: 0.8841\n",
      "Epoch 7/40\n",
      "15000/15000 [==============================] - 1s 56us/step - loss: 0.1504 - acc: 0.9524 - val_loss: 0.2897 - val_acc: 0.8836\n",
      "Epoch 8/40\n",
      "15000/15000 [==============================] - 1s 56us/step - loss: 0.1466 - acc: 0.9534 - val_loss: 0.2899 - val_acc: 0.8847\n",
      "Epoch 9/40\n",
      "15000/15000 [==============================] - 1s 59us/step - loss: 0.1436 - acc: 0.9550 - val_loss: 0.2910 - val_acc: 0.8843\n",
      "Epoch 10/40\n",
      "15000/15000 [==============================] - 1s 56us/step - loss: 0.1401 - acc: 0.9565 - val_loss: 0.2904 - val_acc: 0.8854\n",
      "Epoch 11/40\n",
      "15000/15000 [==============================] - 1s 55us/step - loss: 0.1372 - acc: 0.9575 - val_loss: 0.2911 - val_acc: 0.8854\n",
      "Epoch 12/40\n",
      "15000/15000 [==============================] - 1s 53us/step - loss: 0.1338 - acc: 0.9587 - val_loss: 0.2919 - val_acc: 0.8862\n",
      "Epoch 13/40\n",
      "15000/15000 [==============================] - 1s 53us/step - loss: 0.1306 - acc: 0.9598 - val_loss: 0.2934 - val_acc: 0.8847\n",
      "Epoch 14/40\n",
      "15000/15000 [==============================] - 1s 56us/step - loss: 0.1277 - acc: 0.9611 - val_loss: 0.2938 - val_acc: 0.8859\n",
      "Epoch 15/40\n",
      "15000/15000 [==============================] - 1s 54us/step - loss: 0.1251 - acc: 0.9617 - val_loss: 0.2954 - val_acc: 0.8855\n",
      "Epoch 16/40\n",
      "15000/15000 [==============================] - 1s 56us/step - loss: 0.1223 - acc: 0.9633 - val_loss: 0.2962 - val_acc: 0.8850\n",
      "Epoch 17/40\n",
      "15000/15000 [==============================] - 1s 55us/step - loss: 0.1192 - acc: 0.9649 - val_loss: 0.2975 - val_acc: 0.8840\n",
      "Epoch 18/40\n",
      "15000/15000 [==============================] - 1s 56us/step - loss: 0.1168 - acc: 0.9655 - val_loss: 0.2988 - val_acc: 0.8843\n",
      "Epoch 19/40\n",
      "15000/15000 [==============================] - 1s 56us/step - loss: 0.1142 - acc: 0.9659 - val_loss: 0.3003 - val_acc: 0.8849\n",
      "Epoch 20/40\n",
      "15000/15000 [==============================] - 1s 55us/step - loss: 0.1115 - acc: 0.9677 - val_loss: 0.3014 - val_acc: 0.8850\n",
      "Epoch 21/40\n",
      "15000/15000 [==============================] - 1s 54us/step - loss: 0.1097 - acc: 0.9679 - val_loss: 0.3040 - val_acc: 0.8834\n",
      "Epoch 22/40\n",
      "15000/15000 [==============================] - 1s 53us/step - loss: 0.1073 - acc: 0.9687 - val_loss: 0.3056 - val_acc: 0.8838\n",
      "Epoch 23/40\n",
      "15000/15000 [==============================] - 1s 55us/step - loss: 0.1044 - acc: 0.9699 - val_loss: 0.3060 - val_acc: 0.8851\n",
      "Epoch 24/40\n",
      "15000/15000 [==============================] - 1s 58us/step - loss: 0.1020 - acc: 0.9705 - val_loss: 0.3081 - val_acc: 0.8840\n",
      "Epoch 25/40\n",
      "15000/15000 [==============================] - 1s 56us/step - loss: 0.0996 - acc: 0.9715 - val_loss: 0.3094 - val_acc: 0.8844\n",
      "Epoch 26/40\n",
      "15000/15000 [==============================] - 1s 54us/step - loss: 0.0977 - acc: 0.9723 - val_loss: 0.3143 - val_acc: 0.8822\n",
      "Epoch 27/40\n",
      "15000/15000 [==============================] - 1s 57us/step - loss: 0.0955 - acc: 0.9733 - val_loss: 0.3130 - val_acc: 0.8829\n",
      "Epoch 28/40\n",
      "15000/15000 [==============================] - 1s 57us/step - loss: 0.0932 - acc: 0.9751 - val_loss: 0.3170 - val_acc: 0.8816\n",
      "Epoch 29/40\n",
      "15000/15000 [==============================] - 1s 59us/step - loss: 0.0913 - acc: 0.9749 - val_loss: 0.3171 - val_acc: 0.8815\n",
      "Epoch 30/40\n",
      "15000/15000 [==============================] - 1s 57us/step - loss: 0.0890 - acc: 0.9763 - val_loss: 0.3191 - val_acc: 0.8826\n",
      "Epoch 31/40\n",
      "15000/15000 [==============================] - 1s 56us/step - loss: 0.0875 - acc: 0.9765 - val_loss: 0.3213 - val_acc: 0.8825\n",
      "Epoch 32/40\n",
      "15000/15000 [==============================] - 1s 57us/step - loss: 0.0863 - acc: 0.9766 - val_loss: 0.3230 - val_acc: 0.8826\n",
      "Epoch 33/40\n",
      "15000/15000 [==============================] - 1s 57us/step - loss: 0.0837 - acc: 0.9782 - val_loss: 0.3269 - val_acc: 0.8807\n",
      "Epoch 34/40\n",
      "15000/15000 [==============================] - 1s 56us/step - loss: 0.0817 - acc: 0.9794 - val_loss: 0.3276 - val_acc: 0.8820\n",
      "Epoch 35/40\n",
      "15000/15000 [==============================] - 1s 55us/step - loss: 0.0797 - acc: 0.9806 - val_loss: 0.3303 - val_acc: 0.8820\n",
      "Epoch 36/40\n",
      "15000/15000 [==============================] - 1s 55us/step - loss: 0.0783 - acc: 0.9802 - val_loss: 0.3330 - val_acc: 0.8801\n",
      "Epoch 37/40\n",
      "15000/15000 [==============================] - 1s 57us/step - loss: 0.0761 - acc: 0.9813 - val_loss: 0.3345 - val_acc: 0.8804\n",
      "Epoch 38/40\n",
      "15000/15000 [==============================] - 1s 55us/step - loss: 0.0744 - acc: 0.9819 - val_loss: 0.3369 - val_acc: 0.8811\n",
      "Epoch 39/40\n",
      "15000/15000 [==============================] - 1s 55us/step - loss: 0.0728 - acc: 0.9825 - val_loss: 0.3401 - val_acc: 0.8799\n",
      "Epoch 40/40\n",
      "15000/15000 [==============================] - 1s 54us/step - loss: 0.0712 - acc: 0.9833 - val_loss: 0.3419 - val_acc: 0.8799\n"
     ]
    }
   ],
   "source": [
    "history = model.fit(partial_x_train,\n",
    "                    partial_y_train,\n",
    "                    epochs=40,\n",
    "                    batch_size=512,\n",
    "                    validation_data=(x_val, y_val),\n",
    "                    verbose=1)"
   ]
  },
  {
   "cell_type": "markdown",
   "metadata": {},
   "source": [
    "## 验证模型\n",
    "\n",
    "让我们看一下我们训练好的模型在测试数据上的表现吧。"
   ]
  },
  {
   "cell_type": "code",
   "execution_count": 31,
   "metadata": {},
   "outputs": [
    {
     "name": "stdout",
     "output_type": "stream",
     "text": [
      "25000/25000 [==============================] - 0s 18us/step\n",
      "[0.36486377942562104, 0.86872]\n"
     ]
    }
   ],
   "source": [
    "results = model.evaluate(test_data, test_labels)\n",
    "print(results)"
   ]
  },
  {
   "cell_type": "markdown",
   "metadata": {},
   "source": [
    "用这种简单的方法可以达到约87%的准确度。 \n",
    "如果使用更先进的方法，模型可以接近95％的准确度。"
   ]
  },
  {
   "cell_type": "markdown",
   "metadata": {},
   "source": [
    "## 建立一个图表显示精度和误差的推移\n",
    "\n",
    "model.fit() 方法会返回一个 History 项目，其中包含一些训练过程中的结果。"
   ]
  },
  {
   "cell_type": "code",
   "execution_count": 32,
   "metadata": {},
   "outputs": [
    {
     "data": {
      "text/plain": [
       "dict_keys(['val_loss', 'val_acc', 'loss', 'acc'])"
      ]
     },
     "execution_count": 32,
     "metadata": {},
     "output_type": "execute_result"
    }
   ],
   "source": [
    "history_dict = history.history\n",
    "history_dict.keys()"
   ]
  },
  {
   "cell_type": "markdown",
   "metadata": {},
   "source": [
    "这里面有四种信息：在验证集上的误差，在验证集上的精度，在训练集上的误差，在训练集上的精度。\n",
    "我们画一个图把他们显示出来。"
   ]
  },
  {
   "cell_type": "code",
   "execution_count": 34,
   "metadata": {},
   "outputs": [
    {
     "data": {
      "image/png": "[encoded data removed]",
      "text/plain": [
       "<Figure size 432x288 with 1 Axes>"
      ]
     },
     "metadata": {},
     "output_type": "display_data"
    },
    {
     "data": {
      "image/png": "[encoded data removed]",
      "text/plain": [
       "<Figure size 432x288 with 1 Axes>"
      ]
     },
     "metadata": {},
     "output_type": "display_data"
    }
   ],
   "source": [
    "import matplotlib.pyplot as plt\n",
    "\n",
    "acc = history.history['acc']\n",
    "val_acc = history.history['val_acc']\n",
    "loss = history.history['loss']\n",
    "val_loss = history.history['val_loss']\n",
    "\n",
    "epochs = range(1, len(acc) + 1)\n",
    "\n",
    "# \"bo\" is for \"blue dot\"\n",
    "plt.plot(epochs, loss, 'bo', label='Training loss')\n",
    "# b is for \"solid blue line\"\n",
    "plt.plot(epochs, val_loss, 'b', label='Validation loss')\n",
    "plt.title('Training and validation loss')\n",
    "plt.xlabel('Epochs')\n",
    "plt.ylabel('Loss')\n",
    "plt.legend()\n",
    "\n",
    "plt.show()\n",
    "\n",
    "plt.clf()   # clear figure\n",
    "acc_values = history_dict['acc']\n",
    "val_acc_values = history_dict['val_acc']\n",
    "\n",
    "plt.plot(epochs, acc, 'bo', label='Training acc')\n",
    "plt.plot(epochs, val_acc, 'b', label='Validation acc')\n",
    "plt.title('Training and validation accuracy')\n",
    "plt.xlabel('Epochs')\n",
    "plt.ylabel('Accuracy')\n",
    "plt.legend()\n",
    "\n",
    "plt.show()"
   ]
  },
  {
   "cell_type": "markdown",
   "metadata": {},
   "source": [
    "在该图中，点表示训练误差和精度，实线表示验证误差和精度。\n",
    "\n",
    "注意看，训练误差随着每轮迭代而减少，并且训练准确度随着每轮迭代而增加。 \n",
    "这说明在使用梯度下降优化时是预期的 - 它应该在每次迭代时最小化损失。\n",
    "\n",
    "它们似乎在大约二十个迭代后达到峰值。 这是过度拟合的一个例子：模型在训练数据上的表现比在测试数据上表现得更好。\n",
    "模型过度优化并学习特定于训练数据的特征，这些特征不会推广到测试数据。\n",
    "\n",
    "对于这种特殊情况，我们可以通过在二十个左右的时期之后停止训练来防止过拟合。"
   ]
  }
 ],
 "metadata": {
  "kernelspec": {
   "display_name": "Python 3",
   "language": "python",
   "name": "python3"
  },
  "language_info": {
   "codemirror_mode": {
    "name": "ipython",
    "version": 3
   },
   "file_extension": ".py",
   "mimetype": "text/x-python",
   "name": "python",
   "nbconvert_exporter": "python",
   "pygments_lexer": "ipython3",
   "version": "3.6.5"
  }
 },
 "nbformat": 4,
 "nbformat_minor": 2
}
